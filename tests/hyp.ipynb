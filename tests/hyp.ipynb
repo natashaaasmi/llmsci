{
 "cells": [
  {
   "cell_type": "code",
   "execution_count": 4,
   "metadata": {},
   "outputs": [],
   "source": [
    "from langchain.llms import OpenAI\n",
    "from langchain.prompts import PromptTemplate\n",
    "from langchain.chains import LLMChain\n",
    "from langchain.chains import SequentialChain"
   ]
  },
  {
   "cell_type": "code",
   "execution_count": 5,
   "metadata": {},
   "outputs": [],
   "source": [
    "import os\n",
    "OPENAI_API_KEY = os.getenv('OPENAI_API_KEY')\n",
    "llm=OpenAI(temperature=0.6)\n"
   ]
  },
  {
   "cell_type": "code",
   "execution_count": 6,
   "metadata": {},
   "outputs": [],
   "source": [
    "#First chain generates hypothesis from field and specific problem\n",
    "\n",
    "#first chain: take in a problem, generate 5 hypotheses\n",
    "llm = OpenAI(temperature=0.5)\n",
    "template= \"\"\"\n",
    "You are a hyper-intelligent scientist. Given the following {problem}, generate a numbered list containing five hypotheses for possible research directions. \n",
    "\"\"\"\n",
    "prompt_template=PromptTemplate(input_variables=[\"problem\"],template=template)\n",
    "hypothesis_chain = LLMChain(llm=llm, prompt=prompt_template, output_key=\"hyplist\")"
   ]
  },
  {
   "cell_type": "code",
   "execution_count": 7,
   "metadata": {},
   "outputs": [],
   "source": [
    "#chain to choose from the best hypothesis\n",
    "llm=OpenAI(temperature=0.5)\n",
    "template2 = \"\"\"\n",
    "Choose the simplest hypothesis from this list: {hyplist}\n",
    "\"\"\"\n",
    "prompt_template2 = PromptTemplate(\n",
    "    input_variables=[\"hyplist\"], template=template2)\n",
    "choice_chain = LLMChain(\n",
    "    llm=llm, prompt=prompt_template2, output_key=\"choice\")\n"
   ]
  },
  {
   "cell_type": "code",
   "execution_count": 8,
   "metadata": {},
   "outputs": [],
   "source": [
    "# This is an LLMChain to create an experiment given a hypothesis.\n",
    "llm = OpenAI(temperature=.7)\n",
    "template = \"\"\"You are a scientist. Given this hypothesis, it is your job to create a concrete, testable experiment to test the hypothesis. Give a numbered list of steps I should follow to do the experiment in my lab, being as specific as possible.\n",
    "\n",
    "Hypothesis: {choice}\n",
    "Scientist: Here's an experiment:\"\"\"\n",
    "prompt_template = PromptTemplate(\n",
    "    input_variables=[\"choice\"], template=template)\n",
    "experiment_chain = LLMChain(llm=llm, prompt=prompt_template, output_key=\"experiment\")\n"
   ]
  },
  {
   "cell_type": "code",
   "execution_count": 9,
   "metadata": {},
   "outputs": [],
   "source": [
    "# This is the overall chain where we run these two chains in sequence.\n",
    "from langchain.chains import SequentialChain\n",
    "full_chain = SequentialChain(\n",
    "    chains=[hypothesis_chain, choice_chain,experiment_chain],\n",
    "    input_variables=[\"problem\"],\n",
    "    # Here we return multiple variables\n",
    "    output_variables=[\"hyplist\",\"choice\", \"experiment\"],\n",
    "    verbose=True)\n"
   ]
  },
  {
   "cell_type": "code",
   "execution_count": 10,
   "metadata": {},
   "outputs": [
    {
     "name": "stdout",
     "output_type": "stream",
     "text": [
      "\n",
      "\n",
      "\u001b[1m> Entering new SequentialChain chain...\u001b[0m\n",
      "\u001b[1mChain 0\u001b[0m:\n",
      "{'hyplist': '\\n1. Developing more efficient irrigation systems to reduce water waste and increase crop yield \\n2. Exploring the effects of different types of fertilizers on crop yield \\n3. Examining the impact of climate change on crop yield \\n4. Analyzing the effect of different farming techniques on crop yield \\n5. Investigating the influence of various soil types on crop yield'}\n",
      "\n",
      "\u001b[1mChain 1\u001b[0m:\n",
      "{'choice': '\\nExploring the effects of different types of fertilizers on crop yield'}\n",
      "\n",
      "\u001b[1mChain 2\u001b[0m:\n",
      "{'experiment': '\\n\\n1. Obtain three different types of fertilizers from a garden store or agricultural supply store.\\n\\n2. Select a plot of land that is suitable for crop growth and mark it off with a measuring tape and stakes.\\n\\n3. Plant the same type of crop in each section of the plot, making sure to evenly distribute the seeds.\\n\\n4. Water the plot with the same amount of water, using a sprinkler or hose.\\n\\n5. Apply the different types of fertilizers to each section of the plot, ensuring a uniform distribution of the fertilizer.\\n\\n6. Monitor the plot for a period of three months, noting the growth of the crop and the effects of the fertilizer.\\n\\n7. At the end of the three months, measure the yield of each crop and record the results.\\n\\n8. Analyze the data and draw conclusions about the effects of the different types of fertilizers on crop yield.'}\n",
      "\n",
      "\n",
      "\u001b[1m> Finished SequentialChain chain.\u001b[0m\n"
     ]
    }
   ],
   "source": [
    "#TODO: this will become HTML input routed through flask app\n",
    "problem = input(\"Enter a problem\")\n",
    "output = full_chain({\"problem\":problem})"
   ]
  }
 ],
 "metadata": {
  "kernelspec": {
   "display_name": "Python 3",
   "language": "python",
   "name": "python3"
  },
  "language_info": {
   "codemirror_mode": {
    "name": "ipython",
    "version": 3
   },
   "file_extension": ".py",
   "mimetype": "text/x-python",
   "name": "python",
   "nbconvert_exporter": "python",
   "pygments_lexer": "ipython3",
   "version": "3.11.1 (v3.11.1:a7a450f84a, Dec  6 2022, 15:24:06) [Clang 13.0.0 (clang-1300.0.29.30)]"
  },
  "orig_nbformat": 4,
  "vscode": {
   "interpreter": {
    "hash": "aee8b7b246df8f9039afb4144a1f6fd8d2ca17a180786b69acc140d282b71a49"
   }
  }
 },
 "nbformat": 4,
 "nbformat_minor": 2
}
