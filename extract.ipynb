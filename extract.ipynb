{
 "cells": [
  {
   "cell_type": "code",
   "execution_count": 10,
   "metadata": {},
   "outputs": [],
   "source": [
    "from langchain.llms import OpenAI\n",
    "from langchain.chains import LLMChain\n",
    "from langchain.prompts import PromptTemplate\n",
    "import openai\n",
    "import os\n",
    "OPENAI_API_KEY = os.getenv('OPENAI_API_KEY')\n",
    "llm= OpenAI(temperature = 0.2)\n"
   ]
  },
  {
   "attachments": {},
   "cell_type": "markdown",
   "metadata": {},
   "source": [
    "# get sota from one review article,this will serve as first world model"
   ]
  },
  {
   "cell_type": "code",
   "execution_count": 113,
   "metadata": {},
   "outputs": [
    {
     "data": {
      "text/plain": [
       "'\\n\\n1. The main chronic autoimmune neuropathies include chronic inflammatory demyelinating polyneuropathy (CIDP), multifocal motor neuropathy (MMN), and anti‐myelin‐associated glycoprotein (MAG) demyelinating neuropathy. \\n2. On the basis of randomized controlled studies, corticosteroids, intravenous immunoglobulin (IVIg), and plasmapheresis provide short‐term benefits in CIDP. \\n3. MMN responds only to IVIg. \\n4. Because in MMN and CIDP, IVIg infusions are required every 3–6 weeks to sustain benefits or long‐term remissions, there is a need for “IVIg‐sparing” agents. \\n5. In CIDP, immunosuppressive drugs, such as azathioprine, cyclosporine, methotrexate, mycophenolate, and cyclophosphamide, are used, but controlled trials have not shown that they are effective. \\n6. Controlled trials have also not shown benefit to any agents in anti‐MAG neuropathy. \\n7. However, clinicians use many immunosuppressive'"
      ]
     },
     "execution_count": 113,
     "metadata": {},
     "output_type": "execute_result"
    }
   ],
   "source": [
    "llm('Split this sentence into coherent chunks:The main chronic autoimmune neuropathies include chronic inflammatory demyelinating polyneuropathy (CIDP), multifocal motor neuropathy (MMN), and anti‐myelin‐associated glycoprotein (MAG) demyelinating neuropathy. On the basis of randomized controlled studies, corticosteroids, intravenous immunoglobulin (IVIg), and plasmapheresis provide short‐term benefits in CIDP. MMN responds only to IVIg. Because in MMN and CIDP, IVIg infusions are required every 3–6 weeks to sustain benefits or long‐term remissions, there is a need for “IVIg‐sparing” agents. In CIDP, immunosuppressive drugs, such as azathioprine, cyclosporine, methotrexate, mycophenolate, and cyclophosphamide, are used, but controlled trials have not shown that they are effective. Controlled trials have also not shown benefit to any agents in anti‐MAG neuropathy. However, clinicians use many immunosuppressive drugs in both settings, but all have potentially serious side effects and are only effective in some patients. Thus, there is a need for new therapies in the inflammatory and paraproteinemic neuropathies. New agents targeting T cells, B cells, and transmigration and transduction molecules are discussed as potential treatment options for new trials. The need for biomarkers that predict therapeutic responses or identify patients with active disease is emphasized, and the search for better scoring tools that capture meaningful changes after response to therapies is highlighted.')\n"
   ]
  },
  {
   "cell_type": "code",
   "execution_count": null,
   "metadata": {},
   "outputs": [],
   "source": [
    "sota_template = \"\"\"\n",
    "CIDP: \n",
    "Symptoms:\n",
    "Treatments:\n",
    "\n",
    "\"\"\""
   ]
  },
  {
   "attachments": {},
   "cell_type": "markdown",
   "metadata": {},
   "source": [
    "## put sota as context for prompt - try summarizing review article first; get llm to chunk it and write chunks to vector db\n"
   ]
  },
  {
   "attachments": {},
   "cell_type": "markdown",
   "metadata": {},
   "source": [
    "## find paragraphs with biological info"
   ]
  },
  {
   "cell_type": "code",
   "execution_count": null,
   "metadata": {},
   "outputs": [],
   "source": [
    "# prompt definition\n",
    "para = \"We found novel previously uncharacterized genes of relevance to CIDP or VAS pathogenesis. Of particular interest in CIDP were tachykinin precursor 1, which may be involved in pain mediation, stearoyl-co-enzyme A(CoA) desaturase, which may be a marker for remyelination, HLA-DQB1, CD69, an early T-cell activation gene, MSR1, a macrophage scavenger receptor, and PDZ and LIM domain 5 (PDLIM5), a factor regulating nuclear factor(NF)-kappa B activity. Allograft inflammatory factor-1 (AIF-1), a modulator of immune response was upregulated both in CIDP and VAS.\"\n"
   ]
  },
  {
   "cell_type": "code",
   "execution_count": null,
   "metadata": {},
   "outputs": [],
   "source": [
    "extract_template = \"\"\"\n",
    "Given the following paragraph: {paragraph}, extract the relevant {entities}\n",
    "\"\"\""
   ]
  },
  {
   "attachments": {},
   "cell_type": "markdown",
   "metadata": {},
   "source": [
    "## extract genes, proteins, molecules from paragraph"
   ]
  },
  {
   "cell_type": "code",
   "execution_count": null,
   "metadata": {},
   "outputs": [],
   "source": [
    "prompt_template = PromptTemplate(\n",
    "    input_variables = [\"paragraph\", \"entities\"],\n",
    "    template = extract_template\n",
    ")"
   ]
  },
  {
   "cell_type": "code",
   "execution_count": null,
   "metadata": {},
   "outputs": [],
   "source": [
    "# define chain\n",
    "extract_chain = LLMChain(\n",
    "    llm=llm, prompt = prompt_template, output_key = \"list\",verbose=False\n",
    ")"
   ]
  },
  {
   "cell_type": "code",
   "execution_count": null,
   "metadata": {},
   "outputs": [],
   "source": [
    "output = extract_chain({\"paragraph\":para, \"entities\":\"genes\"})\n",
    "ans = output.get('list')"
   ]
  },
  {
   "cell_type": "code",
   "execution_count": null,
   "metadata": {},
   "outputs": [],
   "source": [
    "# function to only keep entities within parentheses\n",
    "def keep_parens(sentence):\n",
    "    new_sentence = ''\n",
    "    if '(' in sentence:\n",
    "        loc = sentence.find('(')\n",
    "        for i in range(loc + 1, len(sentence)):\n",
    "            if sentence[i] == ')':\n",
    "                return new_sentence\n",
    "            else:\n",
    "                new_sentence += sentence[i]\n",
    "                continue\n",
    "        return new_sentence\n",
    "    else:\n",
    "        return sentence\n",
    "keep_parens('PDZ and LIM domain 5')                 "
   ]
  },
  {
   "cell_type": "code",
   "execution_count": 14,
   "metadata": {},
   "outputs": [],
   "source": [
    "# function to remove entities with parentheses\n",
    "def remove_paras(para):\n",
    "        sentence = para\n",
    "        return_sentence = sentence\n",
    "        new_sentence = ''\n",
    "        if '(' in sentence:\n",
    "            loc = sentence.find('(')\n",
    "            for i in range(loc, len(sentence)):\n",
    "                if sentence[i] == ')':\n",
    "                    new_sentence += sentence[i]\n",
    "                    break\n",
    "                else:\n",
    "                    new_sentence += sentence[i]\n",
    "                    continue\n",
    "            return_sentence = sentence.replace(new_sentence, '')\n",
    "            return return_sentence\n",
    "        else: return return_sentence\n",
    "\n",
    "\n",
    "def extract_entities(para,entities):\n",
    "    llm = OpenAI(temperature=0.0)\n",
    "    extract_template = \"\"\"\n",
    "        Given the following paragraph: {paragraph}, extract the relevant {entities}\n",
    "        \"\"\"\n",
    "    prompt_template = PromptTemplate(\n",
    "        input_variables=[\"paragraph\", \"entities\"],\n",
    "        template=extract_template\n",
    "    )\n",
    "    extract_chain = LLMChain(\n",
    "        llm=llm, prompt=prompt_template, output_key=\"list\", verbose=False\n",
    "    )\n",
    "\n",
    "    output = extract_chain(\n",
    "        {\"paragraph\": para, \"entities\": entities})\n",
    "    return output.get('list')\n"
   ]
  },
  {
   "cell_type": "code",
   "execution_count": 15,
   "metadata": {},
   "outputs": [
    {
     "data": {
      "text/plain": [
       "'\\nAnswer: PDLIM5, NF-kappa B, AIF-1'"
      ]
     },
     "execution_count": 15,
     "metadata": {},
     "output_type": "execute_result"
    }
   ],
   "source": [
    "extract_entities('PDZ and LIM domain 5 (PDLIM5), a factor regulating nuclear factor(NF)-kappa B activity. Allograft inflammatory factor-1 (AIF-1), a modulator of immune response was upregulated both in CIDP and VAS.',entities='genes')"
   ]
  },
  {
   "attachments": {},
   "cell_type": "markdown",
   "metadata": {},
   "source": [
    "## for each gene found, put in genes list"
   ]
  },
  {
   "cell_type": "code",
   "execution_count": null,
   "metadata": {},
   "outputs": [],
   "source": [
    "#ans = clean_output.get('list')\n",
    "ans = ans.strip('\\n')\n",
    "ans = ans.split(',')\n",
    "print(ans)"
   ]
  },
  {
   "cell_type": "code",
   "execution_count": null,
   "metadata": {},
   "outputs": [],
   "source": [
    "# put items in ans into genes list\n",
    "genes_raw = []\n",
    "for i in range(len(ans)):\n",
    "    cleaned = keep_parens(ans[i])\n",
    "    genes_raw.append(cleaned)\n",
    "print(genes_raw)"
   ]
  },
  {
   "attachments": {},
   "cell_type": "markdown",
   "metadata": {},
   "source": [
    "## translate genes -> UMLS\n",
    "* look up genes from UMLS API, get correct definition\n",
    "* find 1-hop and 2-hop neighbors from SEMMED"
   ]
  },
  {
   "cell_type": "code",
   "execution_count": null,
   "metadata": {},
   "outputs": [],
   "source": [
    "import requests"
   ]
  },
  {
   "attachments": {},
   "cell_type": "markdown",
   "metadata": {},
   "source": [
    "### for each gene, look up in UMLS, put definition in genes_cui\n",
    "\"raw\": \"https://uts-ws.nlm.nih.gov/rest/search/current?apiKey={{api-key}}&string=renal tubular acidosis\",\n"
   ]
  },
  {
   "cell_type": "code",
   "execution_count": null,
   "metadata": {},
   "outputs": [],
   "source": [
    "## for each gene, look up in UMLS, put CUI in genes_cui\n",
    "genes_cui = []\n",
    "for i in range(len(genes_raw)):\n",
    "    url = \"https://uts-ws.nlm.nih.gov/rest/search/current?apiKey=4cd35c0d-838b-4a0d-90ca-446f3b29a7dc&string=\" + genes_raw[i]\n",
    "    print(f'fetching {genes_raw[i]}')\n",
    "    response = requests.get(url)\n",
    "    data = response.json()\n",
    "    cui = data.get('result').get('results')[0].get('ui')\n",
    "    genes_cui.append(cui)\n",
    "print(f'CUIs: {genes_cui}')\n"
   ]
  },
  {
   "attachments": {},
   "cell_type": "markdown",
   "metadata": {},
   "source": [
    "## check how to search medikanren? \n",
    "* which format does it take - CUIs? up/downregulate; # hops?\n",
    "* do CUIs generalize to other databases - e.g. SEMMED? where is CUI useful? -> seems like just UMLS\n",
    "* is semmed just paper citations?\n",
    "* are there databases with lots of molecular interactions built in?->Kegg, BioGrid, Reactome, WikiPathways, BioCyc, SignaLink, Signor, BioCarta, Pho\n",
    "* is the thing you want gene regulation? decrease protein expression?"
   ]
  }
 ],
 "metadata": {
  "kernelspec": {
   "display_name": "Python 3",
   "language": "python",
   "name": "python3"
  },
  "language_info": {
   "codemirror_mode": {
    "name": "ipython",
    "version": 3
   },
   "file_extension": ".py",
   "mimetype": "text/x-python",
   "name": "python",
   "nbconvert_exporter": "python",
   "pygments_lexer": "ipython3",
   "version": "3.11.1"
  },
  "orig_nbformat": 4,
  "vscode": {
   "interpreter": {
    "hash": "aee8b7b246df8f9039afb4144a1f6fd8d2ca17a180786b69acc140d282b71a49"
   }
  }
 },
 "nbformat": 4,
 "nbformat_minor": 2
}
