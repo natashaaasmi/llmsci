{
 "cells": [
  {
   "attachments": {},
   "cell_type": "markdown",
   "metadata": {},
   "source": [
    "## self-ask with search - info gathering on Rett disease"
   ]
  },
  {
   "cell_type": "code",
   "execution_count": 40,
   "metadata": {},
   "outputs": [],
   "source": [
    "from langchain.agents import initialize_agent,Tool, load_tools\n",
    "#from langchain.tools import BaseTool\n",
    "from langchain.llms import OpenAI\n",
    "from langchain import SerpAPIWrapper\n",
    "from langchain.chains import LLMChain\n",
    "from langchain.prompts import PromptTemplate\n",
    "import os"
   ]
  },
  {
   "cell_type": "code",
   "execution_count": 9,
   "metadata": {},
   "outputs": [],
   "source": [
    "os.environ['SERPAPI_API_KEY']=\"40f6fba6120a66c379436fe451a4117f8ffea1edffbb935fef773be799b9bac4\""
   ]
  },
  {
   "cell_type": "code",
   "execution_count": 43,
   "metadata": {},
   "outputs": [],
   "source": [
    "# extract entities from paragraph\n",
    "def extract_entities(para, entities):\n",
    "    llm = OpenAI(temperature=0.0)\n",
    "    extract_template = \"\"\"\n",
    "    Given the following paragraph: {paragraph}, extract the relevant {entities}\n",
    "    \"\"\"\n",
    "    prompt_template = PromptTemplate(\n",
    "        input_variables=[\"paragraph\", \"entities\"],\n",
    "        template=extract_template\n",
    "    )\n",
    "    extract_chain = LLMChain(\n",
    "        llm=llm, prompt=prompt_template, output_key=\"list\", verbose=False\n",
    "    )\n",
    "\n",
    "    output = extract_chain({\"paragraph\": para, \"entities\": entities})\n",
    "    return output.get('list')\n"
   ]
  },
  {
   "cell_type": "code",
   "execution_count": 51,
   "metadata": {},
   "outputs": [],
   "source": [
    "# init search tool\n",
    "search = SerpAPIWrapper()\n",
    "tools = [\n",
    "    Tool(\n",
    "        name=\"Symptoms\",\n",
    "        func=lambda x: search.run(f'Inflammatory pathways involved in {x}'),\n",
    "        description=\"useful for when you want the high level mechanism of the disease symptoms\"\n",
    "    ),\n",
    "    Tool(\n",
    "        name=\"Molecule Search\",\n",
    "        func= lambda x: search.run(f'Molecules involved in {x}'), \n",
    "        description = \"Useful for when you need specific information about the molecules involved in a disease\"\n",
    "    ),\n",
    "    Tool(\n",
    "        name=\"Drug Search\",\n",
    "        func = lambda x: search.run(f'Drugs used to treat {x}'),\n",
    "        description = \"useful for when you want to know what drugs are used to treat a disease\"\n",
    "    ),\n",
    "    Tool(\n",
    "        name=\"Similar Disease Search\",\n",
    "        func=lambda x: search.run(f'Diseases phenotypically similar to {x}'),\n",
    "        description=\"useful for when you want information on similar diseases\"\n",
    "    )\n",
    "    \n",
    "    #TODO: add tool to search for disease in reactome api\n",
    "]"
   ]
  },
  {
   "cell_type": "code",
   "execution_count": 53,
   "metadata": {},
   "outputs": [],
   "source": [
    "agent = initialize_agent(tools, OpenAI(temperature=0),agent=\"zero-shot-react-description\",verbose=True)"
   ]
  },
  {
   "cell_type": "code",
   "execution_count": 55,
   "metadata": {},
   "outputs": [
    {
     "name": "stdout",
     "output_type": "stream",
     "text": [
      "\n",
      "\n",
      "\u001b[1m> Entering new AgentExecutor chain...\u001b[0m\n",
      "\u001b[32;1m\u001b[1;3m I need to find out what molecules are involved in the inflammatory pathway of Rett disease\n",
      "Action: Molecule Search\n",
      "Action Input: Rett disease inflammatory pathway\u001b[0m\n",
      "Observation: \u001b[33;1m\u001b[1;3mRett syndrome (RTT) is a neurological disorder caused by mutations in the X-linked gene methyl-CpG-binding protein 2 (MECP2), a ubiquitously ...\u001b[0m\n",
      "Thought:\u001b[32;1m\u001b[1;3m I need to find out what drugs are used to treat Rett disease\n",
      "Action: Drug Search\n",
      "Action Input: Rett disease\u001b[0m\n",
      "Observation: \u001b[38;5;200m\u001b[1;3mNo medications are available specifically for treatment of Rett syndrome (RS). Antiepileptic drugs (AEDs) may be prescribed to control seizurelike activity. Antireflux agents may be given to treat gastroesophageal reflux (GER). There is some evidence that levocarnitine may be effective.\u001b[0m\n",
      "Thought:\u001b[32;1m\u001b[1;3m I now know the final answer\n",
      "Final Answer: No medications are available specifically for treatment of Rett syndrome (RS). Antiepileptic drugs (AEDs) may be prescribed to control seizurelike activity. Antireflux agents may be given to treat gastroesophageal reflux (GER). There is some evidence that levocarnitine may be effective.\u001b[0m\n",
      "\u001b[1m> Finished AgentExecutor chain.\u001b[0m\n"
     ]
    },
    {
     "data": {
      "text/plain": [
       "'No medications are available specifically for treatment of Rett syndrome (RS). Antiepileptic drugs (AEDs) may be prescribed to control seizurelike activity. Antireflux agents may be given to treat gastroesophageal reflux (GER). There is some evidence that levocarnitine may be effective.'"
      ]
     },
     "execution_count": 55,
     "metadata": {},
     "output_type": "execute_result"
    }
   ],
   "source": [
    "agent.run(\"Rett disease inflammatory pathway\")"
   ]
  },
  {
   "attachments": {},
   "cell_type": "markdown",
   "metadata": {},
   "source": [
    "## define agent to search for "
   ]
  },
  {
   "cell_type": "code",
   "execution_count": 45,
   "metadata": {},
   "outputs": [
    {
     "data": {
      "text/plain": [
       "'\\nAnswer: Antiepileptic drugs (AEDs), Antireflux agents, Levocarnitine'"
      ]
     },
     "execution_count": 45,
     "metadata": {},
     "output_type": "execute_result"
    }
   ],
   "source": [
    "para = \"Rett syndrome is caused by mutations in X-linked MECP2, encoding methyl-CpG-binding protein 2. No medications are available specifically for treatment of Rett syndrome (RS). Antiepileptic drugs (AEDs) may be prescribed to control seizurelike activity. Antireflux agents may be given to treat gastroesophageal reflux (GER). There is some evidence that levocarnitine may be effective. Similar disorders include intellectual disability (ID), autism spectrum disorder, cerebral palsy-like motor encephalopathy, and epilepsy.\"\n",
    "\n",
    "extract_entities(para, \"drugs\")\n"
   ]
  },
  {
   "cell_type": "code",
   "execution_count": 22,
   "metadata": {},
   "outputs": [
    {
     "name": "stdout",
     "output_type": "stream",
     "text": [
      "\n",
      "\n",
      "\u001b[1m> Entering new AgentExecutor chain...\u001b[0m\n",
      "\u001b[32;1m\u001b[1;3m I need to find out what molecules are involved in CIDP.\n",
      "Action: Molecule Search\n",
      "Action Input: CIDP\u001b[0m\n",
      "Observation: \u001b[36;1m\u001b[1;3mChronic inflammatory demyelinating polyneuropathy (CIDP) is a neurological disorder that involves progressive weakness and reduced senses in the arms and legs. It is caused by damage to the fat-based protective covering on nerves called the myelin sheath. Symptoms of CIDP are: Tingling or no feeling in fingers and toes.\u001b[0m\n",
      "Thought:\u001b[32;1m\u001b[1;3m I need to find out what molecules are responsible for the damage to the myelin sheath.\n",
      "Action: Molecule Search\n",
      "Action Input: Myelin Sheath\u001b[0m\n",
      "Observation: \u001b[36;1m\u001b[1;3mMyelin is an insulating layer, or sheath that forms around nerves, including those in the brain and spinal cord. It is made up of protein and fatty substances. This myelin sheath allows electrical impulses to transmit quickly and efficiently along the nerve cells. If myelin is damaged, these impulses slow down.\u001b[0m\n",
      "Thought:\u001b[32;1m\u001b[1;3m I now know the final answer.\n",
      "Final Answer: The molecular basis for CIDP is damage to the myelin sheath, which is composed of protein and fatty substances.\u001b[0m\n",
      "\u001b[1m> Finished AgentExecutor chain.\u001b[0m\n"
     ]
    },
    {
     "data": {
      "text/plain": [
       "'The molecular basis for CIDP is damage to the myelin sheath, which is composed of protein and fatty substances.'"
      ]
     },
     "execution_count": 22,
     "metadata": {},
     "output_type": "execute_result"
    }
   ],
   "source": [
    "agent.run(\"What is the molecular basis for CIDP?\")"
   ]
  },
  {
   "attachments": {},
   "cell_type": "markdown",
   "metadata": {},
   "source": [
    "### change action input to a query that returns more specific results"
   ]
  },
  {
   "cell_type": "code",
   "execution_count": null,
   "metadata": {},
   "outputs": [],
   "source": [
    "# prompt template\n",
    "\n",
    "prefix = \"\"\"Answer the following question. You have access to the following tools {tools}:\n",
    "Ask yourself\n",
    "Are following questions needed?\n",
    "\n",
    "\"\"\""
   ]
  },
  {
   "attachments": {},
   "cell_type": "markdown",
   "metadata": {},
   "source": [
    "# embed sota in chunks"
   ]
  },
  {
   "cell_type": "code",
   "execution_count": 56,
   "metadata": {},
   "outputs": [],
   "source": [
    "import numpy as np\n",
    "import openai\n",
    "import pandas as pd\n",
    "import pickle\n",
    "import tiktoken\n",
    "\n",
    "COMPLETIONS_MODEL = \"text-davinci-003\"\n",
    "EMBEDDING_MODEL = \"text-embedding-ada-002\""
   ]
  },
  {
   "cell_type": "code",
   "execution_count": 65,
   "metadata": {},
   "outputs": [
    {
     "data": {
      "text/html": [
       "<div>\n",
       "<style scoped>\n",
       "    .dataframe tbody tr th:only-of-type {\n",
       "        vertical-align: middle;\n",
       "    }\n",
       "\n",
       "    .dataframe tbody tr th {\n",
       "        vertical-align: top;\n",
       "    }\n",
       "\n",
       "    .dataframe thead th {\n",
       "        text-align: right;\n",
       "    }\n",
       "</style>\n",
       "<table border=\"1\" class=\"dataframe\">\n",
       "  <thead>\n",
       "    <tr style=\"text-align: right;\">\n",
       "      <th></th>\n",
       "      <th>text_chunk</th>\n",
       "    </tr>\n",
       "  </thead>\n",
       "  <tbody>\n",
       "    <tr>\n",
       "      <th>0</th>\n",
       "      <td>Chronic inflammatory demyelinating polyneuropa...</td>\n",
       "    </tr>\n",
       "    <tr>\n",
       "      <th>1</th>\n",
       "      <td>In the classic form of CIDP, motor involvement...</td>\n",
       "    </tr>\n",
       "    <tr>\n",
       "      <th>2</th>\n",
       "      <td>CIDP generally responds to immunosuppressive o...</td>\n",
       "    </tr>\n",
       "    <tr>\n",
       "      <th>3</th>\n",
       "      <td>Early administration of effective treatment is...</td>\n",
       "    </tr>\n",
       "    <tr>\n",
       "      <th>4</th>\n",
       "      <td>The treatment approach depends on the severity...</td>\n",
       "    </tr>\n",
       "  </tbody>\n",
       "</table>\n",
       "</div>"
      ],
      "text/plain": [
       "                                          text_chunk\n",
       "0  Chronic inflammatory demyelinating polyneuropa...\n",
       "1  In the classic form of CIDP, motor involvement...\n",
       "2  CIDP generally responds to immunosuppressive o...\n",
       "3  Early administration of effective treatment is...\n",
       "4  The treatment approach depends on the severity..."
      ]
     },
     "execution_count": 65,
     "metadata": {},
     "output_type": "execute_result"
    }
   ],
   "source": [
    "df = pd.read_csv('tests/uptodate.csv',on_bad_lines='skip')\n",
    "df.head()\n"
   ]
  },
  {
   "cell_type": "code",
   "execution_count": 77,
   "metadata": {},
   "outputs": [],
   "source": [
    "def get_embedding(text, model=EMBEDDING_MODEL):\n",
    "    result = openai.Embedding.create(\n",
    "        model = model,\n",
    "        input=text\n",
    "    )\n",
    "    return result[\"data\"][0][\"embedding\"]\n",
    "\n",
    "def compute_doc_embeddings(df):\n",
    "    return {\n",
    "        idx: get_embedding(r.content) for idx, r in df.iterrows()\n",
    "    }"
   ]
  },
  {
   "cell_type": "code",
   "execution_count": 81,
   "metadata": {},
   "outputs": [
    {
     "ename": "ServiceUnavailableError",
     "evalue": "The server is overloaded or not ready yet.",
     "output_type": "error",
     "traceback": [
      "\u001b[0;31m---------------------------------------------------------------------------\u001b[0m",
      "\u001b[0;31mServiceUnavailableError\u001b[0m                   Traceback (most recent call last)",
      "Cell \u001b[0;32mIn[81], line 1\u001b[0m\n\u001b[0;32m----> 1\u001b[0m get_embedding(text\u001b[39m=\u001b[39;49m\u001b[39m\"\u001b[39;49m\u001b[39mChronic inflammatory demyelinating polyneuropathy (CIDP; also known as chronic inflammatory demyelinating polyradiculoneuropathy) is an entity that describes a group of related neuropathies, all having chronicity, demyelination, inflammation, and immune mediation in common.\u001b[39;49m\u001b[39m\"\u001b[39;49m,model\u001b[39m=\u001b[39;49mEMBEDDING_MODEL)\n",
      "Cell \u001b[0;32mIn[77], line 2\u001b[0m, in \u001b[0;36mget_embedding\u001b[0;34m(text, model)\u001b[0m\n\u001b[1;32m      1\u001b[0m \u001b[39mdef\u001b[39;00m \u001b[39mget_embedding\u001b[39m(text, model\u001b[39m=\u001b[39mEMBEDDING_MODEL):\n\u001b[0;32m----> 2\u001b[0m     result \u001b[39m=\u001b[39m openai\u001b[39m.\u001b[39;49mEmbedding\u001b[39m.\u001b[39;49mcreate(\n\u001b[1;32m      3\u001b[0m         model \u001b[39m=\u001b[39;49m model,\n\u001b[1;32m      4\u001b[0m         \u001b[39minput\u001b[39;49m\u001b[39m=\u001b[39;49mtext\n\u001b[1;32m      5\u001b[0m     )\n\u001b[1;32m      6\u001b[0m     \u001b[39mreturn\u001b[39;00m result[\u001b[39m\"\u001b[39m\u001b[39mdata\u001b[39m\u001b[39m\"\u001b[39m][\u001b[39m0\u001b[39m][\u001b[39m\"\u001b[39m\u001b[39membedding\u001b[39m\u001b[39m\"\u001b[39m]\n",
      "File \u001b[0;32m/Library/Frameworks/Python.framework/Versions/3.11/lib/python3.11/site-packages/openai/api_resources/embedding.py:34\u001b[0m, in \u001b[0;36mEmbedding.create\u001b[0;34m(cls, *args, **kwargs)\u001b[0m\n\u001b[1;32m     32\u001b[0m \u001b[39mwhile\u001b[39;00m \u001b[39mTrue\u001b[39;00m:\n\u001b[1;32m     33\u001b[0m     \u001b[39mtry\u001b[39;00m:\n\u001b[0;32m---> 34\u001b[0m         response \u001b[39m=\u001b[39m \u001b[39msuper\u001b[39;49m()\u001b[39m.\u001b[39;49mcreate(\u001b[39m*\u001b[39;49margs, \u001b[39m*\u001b[39;49m\u001b[39m*\u001b[39;49mkwargs)\n\u001b[1;32m     36\u001b[0m         \u001b[39m# If a user specifies base64, we'll just return the encoded string.\u001b[39;00m\n\u001b[1;32m     37\u001b[0m         \u001b[39m# This is only for the default case.\u001b[39;00m\n\u001b[1;32m     38\u001b[0m         \u001b[39mif\u001b[39;00m \u001b[39mnot\u001b[39;00m user_provided_encoding_format:\n",
      "File \u001b[0;32m/Library/Frameworks/Python.framework/Versions/3.11/lib/python3.11/site-packages/openai/api_resources/abstract/engine_api_resource.py:115\u001b[0m, in \u001b[0;36mEngineAPIResource.create\u001b[0;34m(cls, api_key, api_base, api_type, request_id, api_version, organization, **params)\u001b[0m\n\u001b[1;32m    107\u001b[0m requestor \u001b[39m=\u001b[39m api_requestor\u001b[39m.\u001b[39mAPIRequestor(\n\u001b[1;32m    108\u001b[0m     api_key,\n\u001b[1;32m    109\u001b[0m     api_base\u001b[39m=\u001b[39mapi_base,\n\u001b[0;32m   (...)\u001b[0m\n\u001b[1;32m    112\u001b[0m     organization\u001b[39m=\u001b[39morganization,\n\u001b[1;32m    113\u001b[0m )\n\u001b[1;32m    114\u001b[0m url \u001b[39m=\u001b[39m \u001b[39mcls\u001b[39m\u001b[39m.\u001b[39mclass_url(engine, api_type, api_version)\n\u001b[0;32m--> 115\u001b[0m response, _, api_key \u001b[39m=\u001b[39m requestor\u001b[39m.\u001b[39;49mrequest(\n\u001b[1;32m    116\u001b[0m     \u001b[39m\"\u001b[39;49m\u001b[39mpost\u001b[39;49m\u001b[39m\"\u001b[39;49m,\n\u001b[1;32m    117\u001b[0m     url,\n\u001b[1;32m    118\u001b[0m     params\u001b[39m=\u001b[39;49mparams,\n\u001b[1;32m    119\u001b[0m     headers\u001b[39m=\u001b[39;49mheaders,\n\u001b[1;32m    120\u001b[0m     stream\u001b[39m=\u001b[39;49mstream,\n\u001b[1;32m    121\u001b[0m     request_id\u001b[39m=\u001b[39;49mrequest_id,\n\u001b[1;32m    122\u001b[0m     request_timeout\u001b[39m=\u001b[39;49mrequest_timeout,\n\u001b[1;32m    123\u001b[0m )\n\u001b[1;32m    125\u001b[0m \u001b[39mif\u001b[39;00m stream:\n\u001b[1;32m    126\u001b[0m     \u001b[39m# must be an iterator\u001b[39;00m\n\u001b[1;32m    127\u001b[0m     \u001b[39massert\u001b[39;00m \u001b[39mnot\u001b[39;00m \u001b[39misinstance\u001b[39m(response, OpenAIResponse)\n",
      "File \u001b[0;32m/Library/Frameworks/Python.framework/Versions/3.11/lib/python3.11/site-packages/openai/api_requestor.py:181\u001b[0m, in \u001b[0;36mAPIRequestor.request\u001b[0;34m(self, method, url, params, headers, files, stream, request_id, request_timeout)\u001b[0m\n\u001b[1;32m    160\u001b[0m \u001b[39mdef\u001b[39;00m \u001b[39mrequest\u001b[39m(\n\u001b[1;32m    161\u001b[0m     \u001b[39mself\u001b[39m,\n\u001b[1;32m    162\u001b[0m     method,\n\u001b[0;32m   (...)\u001b[0m\n\u001b[1;32m    169\u001b[0m     request_timeout: Optional[Union[\u001b[39mfloat\u001b[39m, Tuple[\u001b[39mfloat\u001b[39m, \u001b[39mfloat\u001b[39m]]] \u001b[39m=\u001b[39m \u001b[39mNone\u001b[39;00m,\n\u001b[1;32m    170\u001b[0m ) \u001b[39m-\u001b[39m\u001b[39m>\u001b[39m Tuple[Union[OpenAIResponse, Iterator[OpenAIResponse]], \u001b[39mbool\u001b[39m, \u001b[39mstr\u001b[39m]:\n\u001b[1;32m    171\u001b[0m     result \u001b[39m=\u001b[39m \u001b[39mself\u001b[39m\u001b[39m.\u001b[39mrequest_raw(\n\u001b[1;32m    172\u001b[0m         method\u001b[39m.\u001b[39mlower(),\n\u001b[1;32m    173\u001b[0m         url,\n\u001b[0;32m   (...)\u001b[0m\n\u001b[1;32m    179\u001b[0m         request_timeout\u001b[39m=\u001b[39mrequest_timeout,\n\u001b[1;32m    180\u001b[0m     )\n\u001b[0;32m--> 181\u001b[0m     resp, got_stream \u001b[39m=\u001b[39m \u001b[39mself\u001b[39;49m\u001b[39m.\u001b[39;49m_interpret_response(result, stream)\n\u001b[1;32m    182\u001b[0m     \u001b[39mreturn\u001b[39;00m resp, got_stream, \u001b[39mself\u001b[39m\u001b[39m.\u001b[39mapi_key\n",
      "File \u001b[0;32m/Library/Frameworks/Python.framework/Versions/3.11/lib/python3.11/site-packages/openai/api_requestor.py:396\u001b[0m, in \u001b[0;36mAPIRequestor._interpret_response\u001b[0;34m(self, result, stream)\u001b[0m\n\u001b[1;32m    388\u001b[0m     \u001b[39mreturn\u001b[39;00m (\n\u001b[1;32m    389\u001b[0m         \u001b[39mself\u001b[39m\u001b[39m.\u001b[39m_interpret_response_line(\n\u001b[1;32m    390\u001b[0m             line, result\u001b[39m.\u001b[39mstatus_code, result\u001b[39m.\u001b[39mheaders, stream\u001b[39m=\u001b[39m\u001b[39mTrue\u001b[39;00m\n\u001b[1;32m    391\u001b[0m         )\n\u001b[1;32m    392\u001b[0m         \u001b[39mfor\u001b[39;00m line \u001b[39min\u001b[39;00m parse_stream(result\u001b[39m.\u001b[39miter_lines())\n\u001b[1;32m    393\u001b[0m     ), \u001b[39mTrue\u001b[39;00m\n\u001b[1;32m    394\u001b[0m \u001b[39melse\u001b[39;00m:\n\u001b[1;32m    395\u001b[0m     \u001b[39mreturn\u001b[39;00m (\n\u001b[0;32m--> 396\u001b[0m         \u001b[39mself\u001b[39;49m\u001b[39m.\u001b[39;49m_interpret_response_line(\n\u001b[1;32m    397\u001b[0m             result\u001b[39m.\u001b[39;49mcontent, result\u001b[39m.\u001b[39;49mstatus_code, result\u001b[39m.\u001b[39;49mheaders, stream\u001b[39m=\u001b[39;49m\u001b[39mFalse\u001b[39;49;00m\n\u001b[1;32m    398\u001b[0m         ),\n\u001b[1;32m    399\u001b[0m         \u001b[39mFalse\u001b[39;00m,\n\u001b[1;32m    400\u001b[0m     )\n",
      "File \u001b[0;32m/Library/Frameworks/Python.framework/Versions/3.11/lib/python3.11/site-packages/openai/api_requestor.py:410\u001b[0m, in \u001b[0;36mAPIRequestor._interpret_response_line\u001b[0;34m(self, rbody, rcode, rheaders, stream)\u001b[0m\n\u001b[1;32m    407\u001b[0m     \u001b[39mreturn\u001b[39;00m OpenAIResponse(\u001b[39mNone\u001b[39;00m, rheaders)\n\u001b[1;32m    409\u001b[0m \u001b[39mif\u001b[39;00m rcode \u001b[39m==\u001b[39m \u001b[39m503\u001b[39m:\n\u001b[0;32m--> 410\u001b[0m     \u001b[39mraise\u001b[39;00m error\u001b[39m.\u001b[39mServiceUnavailableError(\n\u001b[1;32m    411\u001b[0m         \u001b[39m\"\u001b[39m\u001b[39mThe server is overloaded or not ready yet.\u001b[39m\u001b[39m\"\u001b[39m,\n\u001b[1;32m    412\u001b[0m         rbody,\n\u001b[1;32m    413\u001b[0m         rcode,\n\u001b[1;32m    414\u001b[0m         headers\u001b[39m=\u001b[39mrheaders,\n\u001b[1;32m    415\u001b[0m     )\n\u001b[1;32m    416\u001b[0m \u001b[39mtry\u001b[39;00m:\n\u001b[1;32m    417\u001b[0m     \u001b[39mif\u001b[39;00m \u001b[39mhasattr\u001b[39m(rbody, \u001b[39m\"\u001b[39m\u001b[39mdecode\u001b[39m\u001b[39m\"\u001b[39m):\n",
      "\u001b[0;31mServiceUnavailableError\u001b[0m: The server is overloaded or not ready yet."
     ]
    }
   ],
   "source": [
    "get_embedding(text=\"Chronic inflammatory demyelinating polyneuropathy (CIDP; also known as chronic inflammatory demyelinating polyradiculoneuropathy) is an entity that describes a group of related neuropathies, all having chronicity, demyelination, inflammation, and immune mediation in common.\",model=EMBEDDING_MODEL)\n"
   ]
  },
  {
   "cell_type": "code",
   "execution_count": 76,
   "metadata": {},
   "outputs": [],
   "source": [
    "def load_embeddings(fname):\n",
    "    df = pd.read_csv(fname, header=0)\n",
    "    max_dim = max([int(c) for c in df.columns])\n",
    "    return {\n",
    "        (r.text_chunk): [r[str(i)] for i in range(max_dim +1)] for _, r in df.iterrows()\n",
    "    }\n"
   ]
  },
  {
   "attachments": {},
   "cell_type": "markdown",
   "metadata": {},
   "source": [
    "## TODO: change csv format to allow document embeddings to work"
   ]
  },
  {
   "cell_type": "code",
   "execution_count": 78,
   "metadata": {},
   "outputs": [
    {
     "ename": "ValueError",
     "evalue": "invalid literal for int() with base 10: 'index'",
     "output_type": "error",
     "traceback": [
      "\u001b[0;31m---------------------------------------------------------------------------\u001b[0m",
      "\u001b[0;31mValueError\u001b[0m                                Traceback (most recent call last)",
      "Cell \u001b[0;32mIn[78], line 1\u001b[0m\n\u001b[0;32m----> 1\u001b[0m document_embeddings \u001b[39m=\u001b[39m load_embeddings(\u001b[39m'\u001b[39;49m\u001b[39mtests/uptodate.csv\u001b[39;49m\u001b[39m'\u001b[39;49m)\n",
      "Cell \u001b[0;32mIn[76], line 3\u001b[0m, in \u001b[0;36mload_embeddings\u001b[0;34m(fname)\u001b[0m\n\u001b[1;32m      1\u001b[0m \u001b[39mdef\u001b[39;00m \u001b[39mload_embeddings\u001b[39m(fname):\n\u001b[1;32m      2\u001b[0m     df \u001b[39m=\u001b[39m pd\u001b[39m.\u001b[39mread_csv(fname, header\u001b[39m=\u001b[39m\u001b[39m0\u001b[39m)\n\u001b[0;32m----> 3\u001b[0m     max_dim \u001b[39m=\u001b[39m \u001b[39mmax\u001b[39m([\u001b[39mint\u001b[39;49m(c) \u001b[39mfor\u001b[39;49;00m c \u001b[39min\u001b[39;49;00m df\u001b[39m.\u001b[39;49mcolumns])\n\u001b[1;32m      4\u001b[0m     \u001b[39mreturn\u001b[39;00m {\n\u001b[1;32m      5\u001b[0m         (r\u001b[39m.\u001b[39mtext_chunk): [r[\u001b[39mstr\u001b[39m(i)] \u001b[39mfor\u001b[39;00m i \u001b[39min\u001b[39;00m \u001b[39mrange\u001b[39m(max_dim \u001b[39m+\u001b[39m\u001b[39m1\u001b[39m)] \u001b[39mfor\u001b[39;00m _, r \u001b[39min\u001b[39;00m df\u001b[39m.\u001b[39miterrows()\n\u001b[1;32m      6\u001b[0m     }\n",
      "Cell \u001b[0;32mIn[76], line 3\u001b[0m, in \u001b[0;36m<listcomp>\u001b[0;34m(.0)\u001b[0m\n\u001b[1;32m      1\u001b[0m \u001b[39mdef\u001b[39;00m \u001b[39mload_embeddings\u001b[39m(fname):\n\u001b[1;32m      2\u001b[0m     df \u001b[39m=\u001b[39m pd\u001b[39m.\u001b[39mread_csv(fname, header\u001b[39m=\u001b[39m\u001b[39m0\u001b[39m)\n\u001b[0;32m----> 3\u001b[0m     max_dim \u001b[39m=\u001b[39m \u001b[39mmax\u001b[39m([\u001b[39mint\u001b[39;49m(c) \u001b[39mfor\u001b[39;00m c \u001b[39min\u001b[39;00m df\u001b[39m.\u001b[39mcolumns])\n\u001b[1;32m      4\u001b[0m     \u001b[39mreturn\u001b[39;00m {\n\u001b[1;32m      5\u001b[0m         (r\u001b[39m.\u001b[39mtext_chunk): [r[\u001b[39mstr\u001b[39m(i)] \u001b[39mfor\u001b[39;00m i \u001b[39min\u001b[39;00m \u001b[39mrange\u001b[39m(max_dim \u001b[39m+\u001b[39m\u001b[39m1\u001b[39m)] \u001b[39mfor\u001b[39;00m _, r \u001b[39min\u001b[39;00m df\u001b[39m.\u001b[39miterrows()\n\u001b[1;32m      6\u001b[0m     }\n",
      "\u001b[0;31mValueError\u001b[0m: invalid literal for int() with base 10: 'index'"
     ]
    }
   ],
   "source": [
    "document_embeddings = load_embeddings('tests/uptodate.csv')"
   ]
  },
  {
   "cell_type": "code",
   "execution_count": 75,
   "metadata": {},
   "outputs": [],
   "source": [
    "def vector_similarity(x,y):\n",
    "    return np.dot(np.array(x),np.array(y))\n",
    "\n",
    "def order_doc_sections_by_query(query:str, contexts:dict[(str,str),np.array]) -> list[(float,(str,str))]:\n",
    "    query_embedding = get_embedding(query)\n",
    "    document_similarities = sorted([\n",
    "        (vector_similarity(query_embedding,doc_embedding),doc_index) for doc_index,doc_embedding in contexts.items()\n",
    "    ],reverse=True)\n",
    "    return document_similarities\n"
   ]
  }
 ],
 "metadata": {
  "kernelspec": {
   "display_name": "Python 3",
   "language": "python",
   "name": "python3"
  },
  "language_info": {
   "codemirror_mode": {
    "name": "ipython",
    "version": 3
   },
   "file_extension": ".py",
   "mimetype": "text/x-python",
   "name": "python",
   "nbconvert_exporter": "python",
   "pygments_lexer": "ipython3",
   "version": "3.11.1"
  },
  "orig_nbformat": 4,
  "vscode": {
   "interpreter": {
    "hash": "aee8b7b246df8f9039afb4144a1f6fd8d2ca17a180786b69acc140d282b71a49"
   }
  }
 },
 "nbformat": 4,
 "nbformat_minor": 2
}
