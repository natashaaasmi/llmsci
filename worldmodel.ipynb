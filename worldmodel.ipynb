{
 "cells": [
  {
   "attachments": {},
   "cell_type": "markdown",
   "metadata": {},
   "source": [
    "## sota for disease, update with questions over time\n",
    "* review - immune pathology of CIDP, chunk -> pd\n",
    "* download uptodate article"
   ]
  },
  {
   "cell_type": "code",
   "execution_count": 70,
   "metadata": {},
   "outputs": [],
   "source": [
    "import pandas as pd\n",
    "import numpy as np\n",
    "import requests\n",
    "import selenium as s \n",
    "\n",
    "import langchain.text_splitter as TextSplitter"
   ]
  },
  {
   "cell_type": "code",
   "execution_count": 14,
   "metadata": {},
   "outputs": [],
   "source": [
    "# test text splitter on uptodate.txt, put split chunks into vector db\n",
    "def split(file,chunk_chars,overlap):\n",
    "    try:\n",
    "        with open(file) as f:\n",
    "            doc = f.read()\n",
    "    except UnicodeDecodeError as e:\n",
    "        print(\"file not found\")\n",
    "\n",
    "    text_splitter = TextSplitter.TokenTextSplitter.split_text(chunk_size=chunk_chars, chunk_overlap= overlap)\n",
    "    texts = text_splitter.split_text(doc)\n",
    "    return texts\n"
   ]
  },
  {
   "cell_type": "code",
   "execution_count": 159,
   "metadata": {},
   "outputs": [
    {
     "name": "stdout",
     "output_type": "stream",
     "text": [
      "Chronic inflammatory demyelinating polyneuropathy (CIDP): A Review\n",
      "\n",
      "INTRODUCTION\n",
      "Chronic inflammatory demyelinating polyneuropathy (CIDP; also known as chronic inflammatory demyelinating polyradiculoneuropathy) is an entity that describes a group of related neuropathies, all having chronicity, demyelination, inflammation, and immune mediation in common.\n",
      "\n",
      "In the classic form of CIDP, motor involvement is greater than sensory. The clinical course of CIDP is slowly progressive in a majority of pati\n"
     ]
    }
   ],
   "source": [
    "# test readlines method\n",
    "with open('uptodate.txt','r') as f:\n",
    "    x = f.read(500)\n",
    "    x.replace('\\n', '')\n",
    "print(x)"
   ]
  },
  {
   "cell_type": "code",
   "execution_count": 9,
   "metadata": {},
   "outputs": [],
   "source": [
    "def parse_txt(path, chunk_chars=2000, overlap=50, html=False):\n",
    "\n",
    "    try:\n",
    "        with open(path) as f:\n",
    "            doc = f.read()\n",
    "    except UnicodeDecodeError as e:\n",
    "        with open(path, encoding=\"utf-8\", errors=\"ignore\") as f:\n",
    "            doc = f.read()\n",
    "    text_splitter = TextSplitter(chunk_size=chunk_chars, chunk_overlap=overlap)\n",
    "    texts = text_splitter.split_text(doc)\n",
    "    return texts\n"
   ]
  },
  {
   "cell_type": "code",
   "execution_count": 25,
   "metadata": {},
   "outputs": [],
   "source": [
    "f = open('immune_mech.txt','r')\n",
    "immune_mech = f.read()\n",
    "df = pd.DataFrame()\n",
    "chunk_len = 40"
   ]
  },
  {
   "attachments": {},
   "cell_type": "markdown",
   "metadata": {},
   "source": [
    "chunk by num-tokens, put chunks in dataframe"
   ]
  },
  {
   "cell_type": "code",
   "execution_count": 98,
   "metadata": {},
   "outputs": [],
   "source": [
    "chunk_len = 400\n",
    "df = pd.DataFrame\n",
    "test_dict={}\n",
    "start = 0\n",
    "\n",
    "length = len(immune_mech)\n",
    "\n",
    "def read_chunk(file, start, chunk_len):\n",
    "    count = 0\n",
    "    #sentence\n",
    "    set = ''\n",
    "    with open(file, 'r') as f:\n",
    "        file = f.read()\n",
    "    for count in range(start, start + chunk_len):\n",
    "        set += file[count]\n",
    "    return set  # ,count\n",
    "\n",
    "def parse_text(file, chunk_len):\n",
    "    #char_count = 0\n",
    "    start = 0\n",
    "    chunk_num = 0\n",
    "    chunk_dict = {}\n",
    "    end = chunk_len\n",
    "    with open(file, 'r') as f:\n",
    "        file = f.read()\n",
    "        length = len(file)\n",
    "    while start <= length - 400:\n",
    "        try: \n",
    "            r = read_chunk(file, start, end)\n",
    "            chunk_dict[chunk_num] = r\n",
    "            start += chunk_len\n",
    "            end += chunk_len\n",
    "            chunk_num += 1\n",
    "        except UnicodeDecodeError:\n",
    "            break\n",
    "        #char_count = start\n",
    "    return chunk_dict"
   ]
  },
  {
   "cell_type": "code",
   "execution_count": 55,
   "metadata": {},
   "outputs": [
    {
     "data": {
      "text/plain": [
       "15058"
      ]
     },
     "execution_count": 55,
     "metadata": {},
     "output_type": "execute_result"
    }
   ],
   "source": [
    "file= open('immune_mech.txt','r')\n",
    "file = file.read()\n",
    "len(file)"
   ]
  },
  {
   "attachments": {},
   "cell_type": "markdown",
   "metadata": {},
   "source": [
    "## manual context; self ask with search"
   ]
  },
  {
   "cell_type": "code",
   "execution_count": null,
   "metadata": {},
   "outputs": [],
   "source": [
    "from langchain.prompts import PromptTemplate\n",
    "from langchain.chains import LLMChain\n",
    "from langchain.agents import Agent\n",
    "from langchain.embeddings.openai import OpenAIEmbeddings\n",
    "from langchain import OpenAI, VectorDBQA\n",
    "from langchain.text_splitter import CharacterTextSplitter\n",
    "from langchain.vectorstores import Chroma"
   ]
  },
  {
   "cell_type": "code",
   "execution_count": 151,
   "metadata": {},
   "outputs": [
    {
     "data": {
      "text/html": [
       "<div>\n",
       "<style scoped>\n",
       "    .dataframe tbody tr th:only-of-type {\n",
       "        vertical-align: middle;\n",
       "    }\n",
       "\n",
       "    .dataframe tbody tr th {\n",
       "        vertical-align: top;\n",
       "    }\n",
       "\n",
       "    .dataframe thead th {\n",
       "        text-align: right;\n",
       "    }\n",
       "</style>\n",
       "<table border=\"1\" class=\"dataframe\">\n",
       "  <thead>\n",
       "    <tr style=\"text-align: right;\">\n",
       "      <th></th>\n",
       "      <th>index</th>\n",
       "      <th>text_chunk</th>\n",
       "    </tr>\n",
       "  </thead>\n",
       "  <tbody>\n",
       "    <tr>\n",
       "      <th>0</th>\n",
       "      <td>1</td>\n",
       "      <td>Chronic inflammatory demyelinating polyneuropa...</td>\n",
       "    </tr>\n",
       "    <tr>\n",
       "      <th>1</th>\n",
       "      <td>2</td>\n",
       "      <td>In the classic form of CIDP, motor involvement...</td>\n",
       "    </tr>\n",
       "    <tr>\n",
       "      <th>2</th>\n",
       "      <td>3</td>\n",
       "      <td>CIDP generally responds to immunosuppressive o...</td>\n",
       "    </tr>\n",
       "    <tr>\n",
       "      <th>3</th>\n",
       "      <td>4</td>\n",
       "      <td>Early administration of effective treatment is...</td>\n",
       "    </tr>\n",
       "    <tr>\n",
       "      <th>4</th>\n",
       "      <td>5</td>\n",
       "      <td>The treatment approach depends on the severity...</td>\n",
       "    </tr>\n",
       "  </tbody>\n",
       "</table>\n",
       "</div>"
      ],
      "text/plain": [
       "   index                                         text_chunk\n",
       "0      1  Chronic inflammatory demyelinating polyneuropa...\n",
       "1      2  In the classic form of CIDP, motor involvement...\n",
       "2      3  CIDP generally responds to immunosuppressive o...\n",
       "3      4  Early administration of effective treatment is...\n",
       "4      5  The treatment approach depends on the severity..."
      ]
     },
     "execution_count": 151,
     "metadata": {},
     "output_type": "execute_result"
    }
   ],
   "source": [
    "chunks2 = pd.read_csv('tests/uptodate.csv',chunksize=500,nrows=50)\n",
    "df = pd.concat(chunks2)\n",
    "df.head()"
   ]
  },
  {
   "cell_type": "code",
   "execution_count": 146,
   "metadata": {},
   "outputs": [
    {
     "data": {
      "text/plain": [
       "'Chronic inflammatory demyelinating polyneuropathy (CIDP; also known as chronic inflammatory demyelinating polyradiculoneuropathy) is an entity that describes a group of related neuropathies, all having chronicity, demyelination, inflammation, and immune mediation in common.'"
      ]
     },
     "execution_count": 146,
     "metadata": {},
     "output_type": "execute_result"
    }
   ],
   "source": [
    "chunks = pd.read_csv('tests/uptodate.csv',chunksize=500,nrows=40)\n",
    "df = pd.concat(chunks,ignore_index=True)\n",
    "#df.head()\n",
    "df.head()\n",
    "df.iloc[0].loc[\" text_chunk\"]"
   ]
  },
  {
   "cell_type": "code",
   "execution_count": null,
   "metadata": {},
   "outputs": [],
   "source": [
    "#rom langchain.document_loaders import TextLoader\n",
    "with open('uptodate.txt', 'r') as f:\n",
    "    file = f.read()\n",
    "#documents = loader.load()\n",
    "    text_splitter = CharacterTextSplitter(chunk_size = 600, chunk_overlap = 0)\n",
    "    texts = text_splitter.split_text(file)\n",
    "\n",
    "embeddings = OpenAIEmbeddings()\n",
    "print(texts)\n",
    "#docsearch = Chroma.from_documents(texts, embeddings, collection_name='uptodate')"
   ]
  },
  {
   "attachments": {},
   "cell_type": "markdown",
   "metadata": {},
   "source": [
    "### try analyzing sentence with molecule instead of extracting molecule; this is important for cypher queries"
   ]
  },
  {
   "cell_type": "code",
   "execution_count": null,
   "metadata": {},
   "outputs": [],
   "source": [
    "# "
   ]
  }
 ],
 "metadata": {
  "kernelspec": {
   "display_name": "Python 3",
   "language": "python",
   "name": "python3"
  },
  "language_info": {
   "codemirror_mode": {
    "name": "ipython",
    "version": 3
   },
   "file_extension": ".py",
   "mimetype": "text/x-python",
   "name": "python",
   "nbconvert_exporter": "python",
   "pygments_lexer": "ipython3",
   "version": "3.11.1"
  },
  "orig_nbformat": 4,
  "vscode": {
   "interpreter": {
    "hash": "aee8b7b246df8f9039afb4144a1f6fd8d2ca17a180786b69acc140d282b71a49"
   }
  }
 },
 "nbformat": 4,
 "nbformat_minor": 2
}
